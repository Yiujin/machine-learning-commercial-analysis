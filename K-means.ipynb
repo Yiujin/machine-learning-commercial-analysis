{
 "cells": [
  {
   "cell_type": "code",
   "execution_count": 1,
   "metadata": {},
   "outputs": [],
   "source": [
    "import pandas as pd\n",
    "import numpy as np\n",
    "from sklearn.preprocessing import StandardScaler\n",
    "from sklearn.cluster import KMeans"
   ]
  },
  {
   "cell_type": "code",
   "execution_count": 3,
   "metadata": {},
   "outputs": [
    {
     "name": "stdout",
     "output_type": "stream",
     "text": [
      "StandardScaler()\n",
      "StandardScaler()\n",
      "StandardScaler()\n",
      "StandardScaler()\n",
      "StandardScaler()\n",
      "StandardScaler()\n",
      "StandardScaler()\n"
     ]
    }
   ],
   "source": [
    "# 10대 매출비율,20대 매출비율 평균영업개월수 점포수 총 매출액\n",
    "data=pd.read_csv(\"./Data/plus_living.csv\")\n",
    "data[\"total_living_people\"]=data[\"total_living_people\"] /1000\n",
    "data[\"idx\"]=np.arange(31547)\n",
    "del data['Unnamed: 0']\n",
    "del data['cm_code_name']\n",
    "\n",
    "st_data=pd.DataFrame(data,columns=[\"10's_sales_rate\",\"20's_sales_rate\",\"30's_sales_rate\",\"40's_sales_rate\",\"50's_sales_rate\",\"60's_sales_rate\",\"simillar_store_number\"])\n",
    "\n",
    "# standardScaler 함수 사용하여 data 스케일링, 에러는 한글때문임, 한글 외에 모든 데이터 스케일링 됌\n",
    "def standardScaler(header_list):\n",
    "    over_array = st_data[header_list]\n",
    "    a = pd.DataFrame(over_array)\n",
    "    a[\"idx\"] = np.arange(31547)\n",
    "    train_data = a.values\n",
    "    \n",
    "    standardScaler = StandardScaler()\n",
    "    print(standardScaler.fit(train_data))\n",
    "    train_data_standardScaled = standardScaler.transform(train_data)\n",
    "    st_df = pd.DataFrame(train_data_standardScaled, columns=['standard_over','B'])\n",
    "    del st_df['B']\n",
    "    st_data[header_list] = st_df\n",
    "    \n",
    "# columns들중에서 선별하여 스케일링 수행\n",
    "header = list(data)\n",
    "header\n",
    "for a in header:\n",
    "    if(a == \"10's_sales_rate\" or  a == \"20's_sales_rate\" or a == \"30's_sales_rate\" or  a == \"40's_sales_rate\" or a == \"50's_sales_rate\" or  a == \"60's_sales_rate\" or a == \"simillar_store_number\"):\n",
    "        standardScaler(\"{}\".format(a))\n",
    "\n",
    "#clustering\n",
    "test_kmeans=pd.DataFrame(st_data,columns=[\"10's_sales_rate\",\"20's_sales_rate\",\"30's_sales_rate\",\"40's_sales_rate\",\"50's_sales_rate\",\"60's_sales_rate\",\"simillar_store_number\"])\n",
    "data_points=test_kmeans.values\n",
    "kmeans=KMeans(n_clusters=5).fit(data_points)\n",
    "test_kmeans['cluster_id']=kmeans.labels_\n",
    "df = test_kmeans.copy()\n",
    "test_kmeans[\"idx\"] = np.arange(31547)\n",
    "\n",
    "test_kmeans=pd.DataFrame(test_kmeans,columns=[\"cluster_id\",\"idx\"])\n",
    "new=pd.merge(data,test_kmeans,on=[\"idx\"])\n",
    "del new[\"idx\"]\n",
    "\n",
    "new.to_csv(\"./Data/cluster_data.csv\",mode=\"w\",index=False)\n",
    "df.to_csv(\"./Data/for_classification.csv\",mode=\"w\",index=False)"
   ]
  },
  {
   "cell_type": "code",
   "execution_count": null,
   "metadata": {},
   "outputs": [],
   "source": []
  }
 ],
 "metadata": {
  "kernelspec": {
   "display_name": "Python 3",
   "language": "python",
   "name": "python3"
  },
  "language_info": {
   "codemirror_mode": {
    "name": "ipython",
    "version": 3
   },
   "file_extension": ".py",
   "mimetype": "text/x-python",
   "name": "python",
   "nbconvert_exporter": "python",
   "pygments_lexer": "ipython3",
   "version": "3.7.7"
  }
 },
 "nbformat": 4,
 "nbformat_minor": 4
}
